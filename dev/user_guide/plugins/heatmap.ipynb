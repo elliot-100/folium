{
 "cells": [
  {
   "cell_type": "markdown",
   "id": "3435d6d9",
   "metadata": {},
   "source": [
    "## Heatmap"
   ]
  },
  {
   "cell_type": "code",
   "execution_count": 1,
   "id": "9afeae2c",
   "metadata": {
    "execution": {
     "iopub.execute_input": "2025-01-06T09:25:49.604914Z",
     "iopub.status.busy": "2025-01-06T09:25:49.604753Z",
     "iopub.status.idle": "2025-01-06T09:25:49.657868Z",
     "shell.execute_reply": "2025-01-06T09:25:49.657412Z"
    }
   },
   "outputs": [],
   "source": [
    "import numpy as np\n",
    "\n",
    "data = (\n",
    "    np.random.normal(size=(100, 3)) * np.array([[1, 1, 1]]) + np.array([[48, 5, 1]])\n",
    ").tolist()"
   ]
  },
  {
   "cell_type": "code",
   "execution_count": 2,
   "id": "3a748c89",
   "metadata": {
    "execution": {
     "iopub.execute_input": "2025-01-06T09:25:49.659882Z",
     "iopub.status.busy": "2025-01-06T09:25:49.659602Z",
     "iopub.status.idle": "2025-01-06T09:25:50.096391Z",
     "shell.execute_reply": "2025-01-06T09:25:50.095919Z"
    }
   },
   "outputs": [
    {
     "data": {
      "text/html": [
       "<div style=\"width:100%;\"><div style=\"position:relative;width:100%;height:0;padding-bottom:60%;\"><span style=\"color:#565656\">Make this Notebook Trusted to load map: File -> Trust Notebook</span><iframe srcdoc=\"&lt;!DOCTYPE html&gt;\n",
       "&lt;html&gt;\n",
       "&lt;head&gt;\n",
       "    \n",
       "    &lt;meta http-equiv=&quot;content-type&quot; content=&quot;text/html; charset=UTF-8&quot; /&gt;\n",
       "    \n",
       "        &lt;script&gt;\n",
       "            L_NO_TOUCH = false;\n",
       "            L_DISABLE_3D = false;\n",
       "        &lt;/script&gt;\n",
       "    \n",
       "    &lt;style&gt;html, body {width: 100%;height: 100%;margin: 0;padding: 0;}&lt;/style&gt;\n",
       "    &lt;style&gt;#map {position:absolute;top:0;bottom:0;right:0;left:0;}&lt;/style&gt;\n",
       "    &lt;script src=&quot;https://cdn.jsdelivr.net/npm/leaflet@1.9.3/dist/leaflet.js&quot;&gt;&lt;/script&gt;\n",
       "    &lt;script src=&quot;https://code.jquery.com/jquery-3.7.1.min.js&quot;&gt;&lt;/script&gt;\n",
       "    &lt;script src=&quot;https://cdn.jsdelivr.net/npm/bootstrap@5.2.2/dist/js/bootstrap.bundle.min.js&quot;&gt;&lt;/script&gt;\n",
       "    &lt;script src=&quot;https://cdnjs.cloudflare.com/ajax/libs/Leaflet.awesome-markers/2.0.2/leaflet.awesome-markers.js&quot;&gt;&lt;/script&gt;\n",
       "    &lt;link rel=&quot;stylesheet&quot; href=&quot;https://cdn.jsdelivr.net/npm/leaflet@1.9.3/dist/leaflet.css&quot;/&gt;\n",
       "    &lt;link rel=&quot;stylesheet&quot; href=&quot;https://cdn.jsdelivr.net/npm/bootstrap@5.2.2/dist/css/bootstrap.min.css&quot;/&gt;\n",
       "    &lt;link rel=&quot;stylesheet&quot; href=&quot;https://netdna.bootstrapcdn.com/bootstrap/3.0.0/css/bootstrap-glyphicons.css&quot;/&gt;\n",
       "    &lt;link rel=&quot;stylesheet&quot; href=&quot;https://cdn.jsdelivr.net/npm/@fortawesome/fontawesome-free@6.2.0/css/all.min.css&quot;/&gt;\n",
       "    &lt;link rel=&quot;stylesheet&quot; href=&quot;https://cdnjs.cloudflare.com/ajax/libs/Leaflet.awesome-markers/2.0.2/leaflet.awesome-markers.css&quot;/&gt;\n",
       "    &lt;link rel=&quot;stylesheet&quot; href=&quot;https://cdn.jsdelivr.net/gh/python-visualization/folium/folium/templates/leaflet.awesome.rotate.min.css&quot;/&gt;\n",
       "    \n",
       "            &lt;meta name=&quot;viewport&quot; content=&quot;width=device-width,\n",
       "                initial-scale=1.0, maximum-scale=1.0, user-scalable=no&quot; /&gt;\n",
       "            &lt;style&gt;\n",
       "                #map_0c4ffff09de3eda0ca4482d668fb90ce {\n",
       "                    position: relative;\n",
       "                    width: 100.0%;\n",
       "                    height: 100.0%;\n",
       "                    left: 0.0%;\n",
       "                    top: 0.0%;\n",
       "                }\n",
       "                .leaflet-container { font-size: 1rem; }\n",
       "            &lt;/style&gt;\n",
       "        \n",
       "    &lt;script src=&quot;https://cdn.jsdelivr.net/gh/python-visualization/folium@main/folium/templates/leaflet_heat.min.js&quot;&gt;&lt;/script&gt;\n",
       "&lt;/head&gt;\n",
       "&lt;body&gt;\n",
       "    \n",
       "    \n",
       "            &lt;div class=&quot;folium-map&quot; id=&quot;map_0c4ffff09de3eda0ca4482d668fb90ce&quot; &gt;&lt;/div&gt;\n",
       "        \n",
       "&lt;/body&gt;\n",
       "&lt;script&gt;\n",
       "    \n",
       "    \n",
       "            var map_0c4ffff09de3eda0ca4482d668fb90ce = L.map(\n",
       "                &quot;map_0c4ffff09de3eda0ca4482d668fb90ce&quot;,\n",
       "                {\n",
       "                    center: [48.0, 5.0],\n",
       "                    crs: L.CRS.EPSG3857,\n",
       "                    ...{\n",
       "  &quot;zoom&quot;: 6,\n",
       "  &quot;zoomControl&quot;: true,\n",
       "  &quot;preferCanvas&quot;: false,\n",
       "}\n",
       "\n",
       "                }\n",
       "            );\n",
       "\n",
       "            \n",
       "\n",
       "        \n",
       "    \n",
       "            var tile_layer_a3dd757cbf3c99bb235177692433d9a5 = L.tileLayer(\n",
       "                &quot;https://tile.openstreetmap.org/{z}/{x}/{y}.png&quot;,\n",
       "                {\n",
       "  &quot;minZoom&quot;: 0,\n",
       "  &quot;maxZoom&quot;: 19,\n",
       "  &quot;maxNativeZoom&quot;: 19,\n",
       "  &quot;noWrap&quot;: false,\n",
       "  &quot;attribution&quot;: &quot;\\u0026copy; \\u003ca href=\\&quot;https://www.openstreetmap.org/copyright\\&quot;\\u003eOpenStreetMap\\u003c/a\\u003e contributors&quot;,\n",
       "  &quot;subdomains&quot;: &quot;abc&quot;,\n",
       "  &quot;detectRetina&quot;: false,\n",
       "  &quot;tms&quot;: false,\n",
       "  &quot;opacity&quot;: 1,\n",
       "}\n",
       "\n",
       "            );\n",
       "        \n",
       "    \n",
       "            tile_layer_a3dd757cbf3c99bb235177692433d9a5.addTo(map_0c4ffff09de3eda0ca4482d668fb90ce);\n",
       "        \n",
       "    \n",
       "            var heat_map_26adfb15c736d6d01e8540ddd316a690 = L.heatLayer(\n",
       "                [[48.19269368169958, 4.061219549400789, 1.1308595427630879], [48.30151469292436, 4.923944333301215, 0.8462642167425463], [47.880896148997294, 5.498730128997851, 1.9997393737454043], [47.642914249418865, 7.572260775806541, 1.9616477096268663], [47.9448909841619, 6.815975100759397, 1.1889136169806598], [47.855049463918704, 5.530936331217176, 1.4855617162299586], [48.748827131266324, 4.319157387719796, 0.9477096398479585], [48.20954839856551, 3.8622524507758973, 1.8326790419106154], [49.546998841867776, 4.812835779844882, 0.909861757710958], [46.78942572791648, 5.713968329101945, -1.5638972595275895], [49.05544891967163, 4.512584731092045, 1.0391013166710894], [46.80874856943249, 4.6139591030529985, 2.0301856546439323], [48.829758742749924, 5.32568506663925, 1.1728503880137626], [47.91288254453265, 4.814432334819013, 0.958347323735863], [48.87949459671199, 5.056165223014519, 1.0481647554051625], [47.70894225591929, 6.256573935673515, 0.9844852447679875], [46.333736260937975, 5.155477925559339, -0.13320439337745849], [48.21848982209593, 4.197734965861107, 2.831101804393555], [49.2434134318096, 5.134462617619969, 0.14662883703304708], [49.57027277355436, 5.809302725873998, -0.1249615798626349], [46.36577230001032, 5.501244413690646, 1.2258046711031811], [47.897743419333445, 5.834001308226158, 1.1688667363367125], [47.085094204658155, 3.9975242122750227, 1.8821287966069256], [47.75378127160406, 6.264240761059079, 0.0023874414079021467], [49.03311645980923, 3.5676746978822735, 0.916565570995451], [46.724031463544044, 5.414893722884628, -0.2606821989527559], [45.4088744560037, 6.121755264869763, -0.28487320191325827], [49.156276819867315, 4.144316161426468, 2.4580907722097827], [48.917290569386836, 3.6512959779698173, -0.5387817904494827], [45.81541946481329, 4.221987143301848, -1.0430779683194604], [47.7061435160055, 4.271123053368852, 0.3396617366991279], [48.887154931754, 5.476666828406011, 1.4763024616426432], [49.10005824882826, 4.986512290965722, 0.6398889391295602], [46.98959137235394, 3.0873831735336923, -0.6424324570827875], [47.275490834340346, 5.616267690284621, 0.765953761706725], [48.81595977639126, 6.314568574387035, 2.769269669603281], [47.808966281187445, 6.832555434564481, 0.5673731336241694], [47.07718053432531, 3.369663478752349, 0.9686292953938673], [46.56613806138491, 5.3111299063343065, 3.69063999228547], [47.31379175298991, 4.519596953207773, 0.2159390222223081], [49.2962770707233, 4.446555565645808, 0.13612121522291531], [49.59090316030386, 5.842984800342433, 1.1822260839269274], [48.33306668232023, 6.70016031201212, 2.3561579034958844], [48.67187873714756, 4.958309457116137, 1.0903332332772997], [48.94725936782163, 7.249734377395509, 1.6101337277597843], [50.50184012951912, 3.575582860537075, 2.047886585249134], [47.22404960894412, 4.558014546974435, 0.9365493599632789], [46.626999149849055, 4.786662205636967, 0.019167209688220166], [47.50139272227121, 4.919125510348564, 1.397526635818283], [46.214782020020614, 5.933199201874388, 0.20451023102584442], [47.337821754183004, 4.92035603073313, 0.8555990177714612], [48.3839445922905, 5.069365416858456, 0.3791786498365912], [49.69666219280867, 6.6090405334023705, 1.1999771585466334], [48.54973568309937, 2.7654866044498503, 0.8248829177346837], [48.43911350816296, 5.380301341835391, 0.8226221905218593], [48.04935804629116, 3.0394506738755593, 0.14150887194093975], [49.20580868268559, 5.788627656115542, 1.345441231250395], [48.54497931306537, 6.743773583738537, 2.1692805097422223], [47.239958153648736, 3.7679110983714255, 1.0504954906632369], [47.150489731607635, 5.2524076606162415, 0.08149862536481667], [47.58003741650954, 5.461345287220593, -1.2648675017432764], [47.41623782914466, 6.365919245100733, 1.1448576729333626], [46.534846009097286, 5.559782502805185, 3.47536265445815], [49.957031543619394, 5.00128185765332, -0.45968560469621833], [47.82906653516003, 5.747555241694763, -0.20936060584692995], [48.23067353406421, 3.999229786493493, 0.7654231785516671], [48.57186888990951, 4.837426334770645, 1.929088185986918], [47.906246326595095, 6.197339315357156, 1.5703788319320284], [47.830363980734056, 3.4606502997943966, 0.6828041270470351], [49.44024724966549, 6.551195641368221, 0.7936029137951814], [49.50027599538248, 4.945412754436974, 2.68290777634395], [48.10252925371517, 6.121617607721507, 0.9167900098464657], [48.94492440814467, 4.983208696209329, 1.412552146524504], [48.80397309955554, 4.422266253661724, 1.6603459135273146], [47.088290670741394, 5.296028388256025, 3.0210490355100887], [48.74196132639905, 4.381178362940559, 2.83240332543523], [49.094018125838595, 4.375255768729112, 2.3283190283277646], [48.09191641244722, 5.110080098626316, 1.8011035978103105], [46.310116905497395, 5.419881705643097, 0.4167585114041573], [47.255224734565076, 8.071188310265084, 1.841047500603708], [47.70067152781797, 6.057771463715395, 0.5263693352041768], [48.04794130861597, 4.223644599015938, 3.8346404509534975], [47.49956576052066, 6.204036066168765, 0.4013225371607043], [47.62188106844997, 5.459975694621835, 1.625595380347075], [47.193506680491865, 6.072936272315408, 1.1984987594549932], [48.19637125299052, 4.417786530704791, 0.9172602280011674], [49.46705861447211, 5.7503933095821385, -0.3925297947725832], [47.53645091769726, 4.743727594474994, 0.6846088462898734], [45.06889877834662, 3.5120345858070268, 0.3944915572218135], [46.60691871222701, 5.4915359792676215, -1.0350835681076465], [46.871439523462676, 5.429991494765109, 1.154278446975333], [46.1313564870238, 5.079335242244224, 1.6608556379527704], [47.83435966655509, 3.89137716806075, 0.6087185597555221], [50.165158701936065, 4.096539956111311, 1.0182154298753523], [48.04425137501326, 5.23035140998861, 0.583007018610916], [46.8984169155126, 4.98738037975165, 1.2791512798753737], [47.348673133555565, 4.431808658621932, 2.1946475196094815], [49.12413714373311, 4.433078262710665, 0.4803331075463476], [49.16872710850099, 6.18682641212771, 1.1353654308178853], [47.82993971459006, 4.173317001827724, 0.4199007321777143]],\n",
       "                {\n",
       "  &quot;minOpacity&quot;: 0.5,\n",
       "  &quot;maxZoom&quot;: 18,\n",
       "  &quot;radius&quot;: 25,\n",
       "  &quot;blur&quot;: 15,\n",
       "}\n",
       "            );\n",
       "        \n",
       "    \n",
       "            heat_map_26adfb15c736d6d01e8540ddd316a690.addTo(map_0c4ffff09de3eda0ca4482d668fb90ce);\n",
       "        \n",
       "&lt;/script&gt;\n",
       "&lt;/html&gt;\" style=\"position:absolute;width:100%;height:100%;left:0;top:0;border:none !important;\" allowfullscreen webkitallowfullscreen mozallowfullscreen></iframe></div></div>"
      ],
      "text/plain": [
       "<folium.folium.Map at 0x7fd6bc1ac290>"
      ]
     },
     "execution_count": 2,
     "metadata": {},
     "output_type": "execute_result"
    }
   ],
   "source": [
    "import folium\n",
    "from folium.plugins import HeatMap\n",
    "\n",
    "m = folium.Map([48.0, 5.0], zoom_start=6)\n",
    "\n",
    "HeatMap(data).add_to(m)\n",
    "\n",
    "m"
   ]
  }
 ],
 "metadata": {
  "jupytext": {
   "text_representation": {
    "extension": ".mystnb",
    "format_name": "myst"
   }
  },
  "language_info": {
   "codemirror_mode": {
    "name": "ipython",
    "version": 3
   },
   "file_extension": ".py",
   "mimetype": "text/x-python",
   "name": "python",
   "nbconvert_exporter": "python",
   "pygments_lexer": "ipython3",
   "version": "3.12.8"
  }
 },
 "nbformat": 4,
 "nbformat_minor": 5
}
