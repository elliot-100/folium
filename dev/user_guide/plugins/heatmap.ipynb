{
 "cells": [
  {
   "cell_type": "markdown",
   "id": "ac90bfc2",
   "metadata": {},
   "source": [
    "## Heatmap"
   ]
  },
  {
   "cell_type": "code",
   "execution_count": 1,
   "id": "0b583378",
   "metadata": {
    "execution": {
     "iopub.execute_input": "2024-12-14T16:15:29.023614Z",
     "iopub.status.busy": "2024-12-14T16:15:29.023458Z",
     "iopub.status.idle": "2024-12-14T16:15:29.078453Z",
     "shell.execute_reply": "2024-12-14T16:15:29.077939Z"
    }
   },
   "outputs": [],
   "source": [
    "import numpy as np\n",
    "\n",
    "data = (\n",
    "    np.random.normal(size=(100, 3)) * np.array([[1, 1, 1]]) + np.array([[48, 5, 1]])\n",
    ").tolist()"
   ]
  },
  {
   "cell_type": "code",
   "execution_count": 2,
   "id": "38aa007a",
   "metadata": {
    "execution": {
     "iopub.execute_input": "2024-12-14T16:15:29.081593Z",
     "iopub.status.busy": "2024-12-14T16:15:29.080838Z",
     "iopub.status.idle": "2024-12-14T16:15:29.533378Z",
     "shell.execute_reply": "2024-12-14T16:15:29.532819Z"
    }
   },
   "outputs": [
    {
     "data": {
      "text/html": [
       "<div style=\"width:100%;\"><div style=\"position:relative;width:100%;height:0;padding-bottom:60%;\"><span style=\"color:#565656\">Make this Notebook Trusted to load map: File -> Trust Notebook</span><iframe srcdoc=\"&lt;!DOCTYPE html&gt;\n",
       "&lt;html&gt;\n",
       "&lt;head&gt;\n",
       "    \n",
       "    &lt;meta http-equiv=&quot;content-type&quot; content=&quot;text/html; charset=UTF-8&quot; /&gt;\n",
       "    \n",
       "        &lt;script&gt;\n",
       "            L_NO_TOUCH = false;\n",
       "            L_DISABLE_3D = false;\n",
       "        &lt;/script&gt;\n",
       "    \n",
       "    &lt;style&gt;html, body {width: 100%;height: 100%;margin: 0;padding: 0;}&lt;/style&gt;\n",
       "    &lt;style&gt;#map {position:absolute;top:0;bottom:0;right:0;left:0;}&lt;/style&gt;\n",
       "    &lt;script src=&quot;https://cdn.jsdelivr.net/npm/leaflet@1.9.3/dist/leaflet.js&quot;&gt;&lt;/script&gt;\n",
       "    &lt;script src=&quot;https://code.jquery.com/jquery-3.7.1.min.js&quot;&gt;&lt;/script&gt;\n",
       "    &lt;script src=&quot;https://cdn.jsdelivr.net/npm/bootstrap@5.2.2/dist/js/bootstrap.bundle.min.js&quot;&gt;&lt;/script&gt;\n",
       "    &lt;script src=&quot;https://cdnjs.cloudflare.com/ajax/libs/Leaflet.awesome-markers/2.0.2/leaflet.awesome-markers.js&quot;&gt;&lt;/script&gt;\n",
       "    &lt;link rel=&quot;stylesheet&quot; href=&quot;https://cdn.jsdelivr.net/npm/leaflet@1.9.3/dist/leaflet.css&quot;/&gt;\n",
       "    &lt;link rel=&quot;stylesheet&quot; href=&quot;https://cdn.jsdelivr.net/npm/bootstrap@5.2.2/dist/css/bootstrap.min.css&quot;/&gt;\n",
       "    &lt;link rel=&quot;stylesheet&quot; href=&quot;https://netdna.bootstrapcdn.com/bootstrap/3.0.0/css/bootstrap-glyphicons.css&quot;/&gt;\n",
       "    &lt;link rel=&quot;stylesheet&quot; href=&quot;https://cdn.jsdelivr.net/npm/@fortawesome/fontawesome-free@6.2.0/css/all.min.css&quot;/&gt;\n",
       "    &lt;link rel=&quot;stylesheet&quot; href=&quot;https://cdnjs.cloudflare.com/ajax/libs/Leaflet.awesome-markers/2.0.2/leaflet.awesome-markers.css&quot;/&gt;\n",
       "    &lt;link rel=&quot;stylesheet&quot; href=&quot;https://cdn.jsdelivr.net/gh/python-visualization/folium/folium/templates/leaflet.awesome.rotate.min.css&quot;/&gt;\n",
       "    \n",
       "            &lt;meta name=&quot;viewport&quot; content=&quot;width=device-width,\n",
       "                initial-scale=1.0, maximum-scale=1.0, user-scalable=no&quot; /&gt;\n",
       "            &lt;style&gt;\n",
       "                #map_cc459ec095415afcee8a10f969ea58ee {\n",
       "                    position: relative;\n",
       "                    width: 100.0%;\n",
       "                    height: 100.0%;\n",
       "                    left: 0.0%;\n",
       "                    top: 0.0%;\n",
       "                }\n",
       "                .leaflet-container { font-size: 1rem; }\n",
       "            &lt;/style&gt;\n",
       "        \n",
       "    &lt;script src=&quot;https://cdn.jsdelivr.net/gh/python-visualization/folium@main/folium/templates/leaflet_heat.min.js&quot;&gt;&lt;/script&gt;\n",
       "&lt;/head&gt;\n",
       "&lt;body&gt;\n",
       "    \n",
       "    \n",
       "            &lt;div class=&quot;folium-map&quot; id=&quot;map_cc459ec095415afcee8a10f969ea58ee&quot; &gt;&lt;/div&gt;\n",
       "        \n",
       "&lt;/body&gt;\n",
       "&lt;script&gt;\n",
       "    \n",
       "    \n",
       "            var map_cc459ec095415afcee8a10f969ea58ee = L.map(\n",
       "                &quot;map_cc459ec095415afcee8a10f969ea58ee&quot;,\n",
       "                {\n",
       "                    center: [48.0, 5.0],\n",
       "                    crs: L.CRS.EPSG3857,\n",
       "                    ...{\n",
       "  &quot;zoom&quot;: 6,\n",
       "  &quot;zoomControl&quot;: true,\n",
       "  &quot;preferCanvas&quot;: false,\n",
       "}\n",
       "\n",
       "                }\n",
       "            );\n",
       "\n",
       "            \n",
       "\n",
       "        \n",
       "    \n",
       "            var tile_layer_2421ced5fea3cc289b784db8c8e463b3 = L.tileLayer(\n",
       "                &quot;https://tile.openstreetmap.org/{z}/{x}/{y}.png&quot;,\n",
       "                {\n",
       "  &quot;minZoom&quot;: 0,\n",
       "  &quot;maxZoom&quot;: 19,\n",
       "  &quot;maxNativeZoom&quot;: 19,\n",
       "  &quot;noWrap&quot;: false,\n",
       "  &quot;attribution&quot;: &quot;\\u0026copy; \\u003ca href=\\&quot;https://www.openstreetmap.org/copyright\\&quot;\\u003eOpenStreetMap\\u003c/a\\u003e contributors&quot;,\n",
       "  &quot;subdomains&quot;: &quot;abc&quot;,\n",
       "  &quot;detectRetina&quot;: false,\n",
       "  &quot;tms&quot;: false,\n",
       "  &quot;opacity&quot;: 1,\n",
       "}\n",
       "\n",
       "            );\n",
       "        \n",
       "    \n",
       "            tile_layer_2421ced5fea3cc289b784db8c8e463b3.addTo(map_cc459ec095415afcee8a10f969ea58ee);\n",
       "        \n",
       "    \n",
       "            var heat_map_682250b42dd948bfaedf839e1581b07b = L.heatLayer(\n",
       "                [[48.85793838531991, 7.760598184587463, -0.15156309910008625], [48.4241139365261, 6.787598077530271, -0.19366424467126397], [47.65313548442634, 5.498079218262255, -0.7107903764321357], [48.1364928762518, 3.368833581200607, 3.7272877223780645], [48.42572670030239, 3.974554286284, 1.7136745146216623], [47.98891613964671, 5.012693519995567, -0.17942749869863217], [48.41331429129407, 3.097576862897526, -0.2525898153008892], [46.75266652782911, 6.077707010152928, 2.2800194480038236], [49.10148341733369, 4.2561676026050925, 1.2554401642068407], [48.8128910885576, 5.291976323805217, -0.6622632755877884], [46.80034811130492, 4.508720247543708, 0.3046895544412228], [48.34649761410252, 4.27208312226934, 0.9694847015567003], [48.37651799919334, 5.818106277178377, 0.034583043187718765], [49.100384458436054, 6.235463770129404, 2.2942934694231685], [48.62605708234951, 4.199999051736607, 2.9263850897078356], [47.81946622558068, 5.667116908024448, 2.253968389112356], [49.452575942626424, 2.441027737810747, 0.3264944903718151], [48.57655331440828, 5.958847680620804, -0.6343189605904158], [48.571708935149644, 5.7778794014612105, 1.0275168806366708], [48.52130590351309, 5.045666523581038, 1.084449082686714], [50.148240445653755, 3.927194997648856, -0.1586098790254753], [48.52171431621897, 4.411883170833235, 2.0432261021564897], [47.67270395488682, 6.885112714156038, 1.4792430104544736], [48.513323068621126, 5.949252690519736, -0.24414233327844226], [49.962382563987454, 6.525882124622985, 1.979026392440648], [47.19538702846516, 3.900074735046556, 1.1108089109641006], [48.09816939626595, 5.027186548988845, 1.3306957605820764], [48.88593259849801, 4.749786746014141, 2.297209369990739], [47.67389025716026, 3.1101321760183924, 2.5424289154438826], [46.9038032696208, 6.737168296373081, 0.7958210528215963], [48.94411988469523, 6.316014957674194, 2.133756872965107], [48.83780360189947, 2.1418175987821115, 0.6757414839388967], [46.736512272861304, 6.302673612575269, 0.4862118616027148], [46.82737773262764, 4.505107261963973, 0.8064828696594067], [48.774785271710115, 4.889861972221193, 0.7728319148905506], [48.15560039523279, 3.859853499477488, 0.6819945513005037], [47.99160254257283, 4.947121405667631, 1.7430099008894273], [48.63319640547444, 5.391903131873087, 0.43993647165828], [49.52325775054888, 6.441191648007722, 2.6198661688019245], [46.20717744819892, 5.609348362185246, 1.6742433336639142], [48.18073303592368, 4.321555226660788, 3.8343952765106764], [49.051050664215914, 4.370803712757386, 0.5068585199600889], [48.246849442075536, 4.161798804424148, 0.8341879607627248], [47.787393012012, 4.529509448497465, 0.5869226146744526], [46.9092334989558, 6.329729258256099, 0.3052198253800159], [48.667775464306885, 5.558156916174873, 2.0329703551560674], [49.613549656331955, 4.983162248124096, 1.973035887601994], [47.399553165120345, 4.38508451625233, 1.0318471988055304], [48.01209238853628, 7.588929299255157, 0.8055702551876054], [47.35357666500435, 5.2024858949313595, 1.8964808976190393], [47.41057261452258, 4.263250667270958, 1.3092113266709449], [47.10012921565608, 3.81198178559041, 0.6289658081413372], [49.63739398277459, 5.90806792849916, 1.455312651944318], [48.29375705926365, 1.6771756521598773, 0.28547615419416883], [47.67234077686554, 3.126773487537777, -0.3167082285217395], [46.53172810190475, 5.099344093496675, 0.3292136117188058], [47.14512997627174, 4.167635180103133, 1.706559086865894], [48.55146076722373, 2.9400190746889385, 2.1899226501409297], [48.982003687401296, 5.847224834146408, 0.6468093351277988], [47.625344455814464, 6.2680608816773224, 1.5467121776956638], [47.86083979964875, 4.079368583141193, 1.2320277306047775], [48.077860477401536, 6.4529186972866235, 1.543343998714801], [46.70555626991358, 4.038041272131574, -0.02378855254347223], [48.25970699245173, 5.6588106422054505, 0.7795436465806685], [47.67327241587306, 6.676126711775105, 1.442565344818552], [46.3064635458869, 3.790000658615247, 1.2390683377909213], [47.48893553225347, 4.644442823494088, 1.364178121659854], [46.5837442999906, 4.95817516219146, 1.9895565538554214], [48.00030547881775, 4.679893367544588, 1.395348531767981], [48.67389388829007, 5.179764970181093, 0.45206361012888463], [46.86480203692557, 5.6535891938222615, -0.8987591795227241], [47.32517961326239, 6.237289876408225, 0.6480434754971435], [48.39778855703703, 4.879949181847869, 0.1332276335667294], [47.28392317988296, 4.597019616788663, 2.6511331535237197], [47.5504116307158, 4.826759552963631, 1.8707481718456838], [48.41091251675464, 4.485882478119091, 2.094174399461301], [49.456973886074884, 3.279574376099747, -0.5786504915656356], [48.72713531684667, 3.84660153544312, 2.059240449369253], [48.196058530129676, 4.599023004599281, 1.383595953018101], [49.700068556584874, 5.87959540933009, -0.1505280643928213], [50.270264612238776, 4.480386858871311, 0.8756988248907408], [48.7307220958903, 4.620578272082484, -0.3861779659501592], [47.8420482561937, 5.081674407929782, 0.3552526868300282], [46.54008622507042, 3.4384177797449578, 1.8339787352772314], [47.357684984697045, 4.384338359340162, 1.1614024969279322], [48.988182458976055, 4.61034702411778, 1.1778322012049491], [48.475186488658565, 5.286067921315945, -1.309744660293961], [47.447543110010635, 3.0727139207814425, 1.7603970460284741], [47.83528875178808, 5.053738723505986, 1.5059611323374256], [48.840376867892985, 5.666310580160552, 0.6843774327727173], [47.84868415672532, 5.723998153547128, -1.2109091870492468], [47.52892068403656, 5.076628005960633, 2.42139211671328], [48.970446752105246, 4.935072915073572, 0.335954032667131], [45.36633922385985, 4.6364516482812785, 0.25652699381645294], [48.595732511365476, 3.9674429164095733, 2.792339960004642], [48.557136146825535, 5.456728879381645, 0.5780612483094009], [48.03945708825294, 3.3091823396460436, 1.6973590165580523], [48.75151254965076, 4.3297183944526685, 1.9071412295511463], [47.28385748559997, 4.893525052740162, 1.0124952517321777], [50.575854262406224, 5.732709301599093, 1.283428926042797]],\n",
       "                {\n",
       "  &quot;minOpacity&quot;: 0.5,\n",
       "  &quot;maxZoom&quot;: 18,\n",
       "  &quot;radius&quot;: 25,\n",
       "  &quot;blur&quot;: 15,\n",
       "}\n",
       "            );\n",
       "        \n",
       "    \n",
       "            heat_map_682250b42dd948bfaedf839e1581b07b.addTo(map_cc459ec095415afcee8a10f969ea58ee);\n",
       "        \n",
       "&lt;/script&gt;\n",
       "&lt;/html&gt;\" style=\"position:absolute;width:100%;height:100%;left:0;top:0;border:none !important;\" allowfullscreen webkitallowfullscreen mozallowfullscreen></iframe></div></div>"
      ],
      "text/plain": [
       "<folium.folium.Map at 0x7f4d34390e00>"
      ]
     },
     "execution_count": 2,
     "metadata": {},
     "output_type": "execute_result"
    }
   ],
   "source": [
    "import folium\n",
    "from folium.plugins import HeatMap\n",
    "\n",
    "m = folium.Map([48.0, 5.0], zoom_start=6)\n",
    "\n",
    "HeatMap(data).add_to(m)\n",
    "\n",
    "m"
   ]
  }
 ],
 "metadata": {
  "jupytext": {
   "text_representation": {
    "extension": ".mystnb",
    "format_name": "myst"
   }
  },
  "language_info": {
   "codemirror_mode": {
    "name": "ipython",
    "version": 3
   },
   "file_extension": ".py",
   "mimetype": "text/x-python",
   "name": "python",
   "nbconvert_exporter": "python",
   "pygments_lexer": "ipython3",
   "version": "3.12.8"
  }
 },
 "nbformat": 4,
 "nbformat_minor": 5
}
