{
 "cells": [
  {
   "cell_type": "markdown",
   "id": "c1202cfd",
   "metadata": {},
   "source": [
    "## Heatmap"
   ]
  },
  {
   "cell_type": "code",
   "execution_count": 1,
   "id": "479fd51f",
   "metadata": {
    "execution": {
     "iopub.execute_input": "2024-11-17T15:31:03.207613Z",
     "iopub.status.busy": "2024-11-17T15:31:03.207455Z",
     "iopub.status.idle": "2024-11-17T15:31:03.259089Z",
     "shell.execute_reply": "2024-11-17T15:31:03.258610Z"
    }
   },
   "outputs": [],
   "source": [
    "import numpy as np\n",
    "\n",
    "data = (\n",
    "    np.random.normal(size=(100, 3)) * np.array([[1, 1, 1]]) + np.array([[48, 5, 1]])\n",
    ").tolist()"
   ]
  },
  {
   "cell_type": "code",
   "execution_count": 2,
   "id": "f793ae28",
   "metadata": {
    "execution": {
     "iopub.execute_input": "2024-11-17T15:31:03.261909Z",
     "iopub.status.busy": "2024-11-17T15:31:03.261222Z",
     "iopub.status.idle": "2024-11-17T15:31:03.687705Z",
     "shell.execute_reply": "2024-11-17T15:31:03.687188Z"
    }
   },
   "outputs": [
    {
     "data": {
      "text/html": [
       "<div style=\"width:100%;\"><div style=\"position:relative;width:100%;height:0;padding-bottom:60%;\"><span style=\"color:#565656\">Make this Notebook Trusted to load map: File -> Trust Notebook</span><iframe srcdoc=\"&lt;!DOCTYPE html&gt;\n",
       "&lt;html&gt;\n",
       "&lt;head&gt;\n",
       "    \n",
       "    &lt;meta http-equiv=&quot;content-type&quot; content=&quot;text/html; charset=UTF-8&quot; /&gt;\n",
       "    \n",
       "        &lt;script&gt;\n",
       "            L_NO_TOUCH = false;\n",
       "            L_DISABLE_3D = false;\n",
       "        &lt;/script&gt;\n",
       "    \n",
       "    &lt;style&gt;html, body {width: 100%;height: 100%;margin: 0;padding: 0;}&lt;/style&gt;\n",
       "    &lt;style&gt;#map {position:absolute;top:0;bottom:0;right:0;left:0;}&lt;/style&gt;\n",
       "    &lt;script src=&quot;https://cdn.jsdelivr.net/npm/leaflet@1.9.3/dist/leaflet.js&quot;&gt;&lt;/script&gt;\n",
       "    &lt;script src=&quot;https://code.jquery.com/jquery-3.7.1.min.js&quot;&gt;&lt;/script&gt;\n",
       "    &lt;script src=&quot;https://cdn.jsdelivr.net/npm/bootstrap@5.2.2/dist/js/bootstrap.bundle.min.js&quot;&gt;&lt;/script&gt;\n",
       "    &lt;script src=&quot;https://cdnjs.cloudflare.com/ajax/libs/Leaflet.awesome-markers/2.0.2/leaflet.awesome-markers.js&quot;&gt;&lt;/script&gt;\n",
       "    &lt;link rel=&quot;stylesheet&quot; href=&quot;https://cdn.jsdelivr.net/npm/leaflet@1.9.3/dist/leaflet.css&quot;/&gt;\n",
       "    &lt;link rel=&quot;stylesheet&quot; href=&quot;https://cdn.jsdelivr.net/npm/bootstrap@5.2.2/dist/css/bootstrap.min.css&quot;/&gt;\n",
       "    &lt;link rel=&quot;stylesheet&quot; href=&quot;https://netdna.bootstrapcdn.com/bootstrap/3.0.0/css/bootstrap-glyphicons.css&quot;/&gt;\n",
       "    &lt;link rel=&quot;stylesheet&quot; href=&quot;https://cdn.jsdelivr.net/npm/@fortawesome/fontawesome-free@6.2.0/css/all.min.css&quot;/&gt;\n",
       "    &lt;link rel=&quot;stylesheet&quot; href=&quot;https://cdnjs.cloudflare.com/ajax/libs/Leaflet.awesome-markers/2.0.2/leaflet.awesome-markers.css&quot;/&gt;\n",
       "    &lt;link rel=&quot;stylesheet&quot; href=&quot;https://cdn.jsdelivr.net/gh/python-visualization/folium/folium/templates/leaflet.awesome.rotate.min.css&quot;/&gt;\n",
       "    \n",
       "            &lt;meta name=&quot;viewport&quot; content=&quot;width=device-width,\n",
       "                initial-scale=1.0, maximum-scale=1.0, user-scalable=no&quot; /&gt;\n",
       "            &lt;style&gt;\n",
       "                #map_db022565fa21e37e6c63baa5b091c7b1 {\n",
       "                    position: relative;\n",
       "                    width: 100.0%;\n",
       "                    height: 100.0%;\n",
       "                    left: 0.0%;\n",
       "                    top: 0.0%;\n",
       "                }\n",
       "                .leaflet-container { font-size: 1rem; }\n",
       "            &lt;/style&gt;\n",
       "        \n",
       "    &lt;script src=&quot;https://cdn.jsdelivr.net/gh/python-visualization/folium@main/folium/templates/leaflet_heat.min.js&quot;&gt;&lt;/script&gt;\n",
       "&lt;/head&gt;\n",
       "&lt;body&gt;\n",
       "    \n",
       "    \n",
       "            &lt;div class=&quot;folium-map&quot; id=&quot;map_db022565fa21e37e6c63baa5b091c7b1&quot; &gt;&lt;/div&gt;\n",
       "        \n",
       "&lt;/body&gt;\n",
       "&lt;script&gt;\n",
       "    \n",
       "    \n",
       "            var map_db022565fa21e37e6c63baa5b091c7b1 = L.map(\n",
       "                &quot;map_db022565fa21e37e6c63baa5b091c7b1&quot;,\n",
       "                {\n",
       "                    center: [48.0, 5.0],\n",
       "                    crs: L.CRS.EPSG3857,\n",
       "                    ...{\n",
       "  &quot;maxBounds&quot;: null,\n",
       "  &quot;zoom&quot;: 6,\n",
       "  &quot;zoomControl&quot;: true,\n",
       "  &quot;preferCanvas&quot;: false,\n",
       "}\n",
       "\n",
       "                }\n",
       "            );\n",
       "\n",
       "            \n",
       "\n",
       "        \n",
       "    \n",
       "            var tile_layer_757569a39fb1b421c0c90cb9ae9d2934 = L.tileLayer(\n",
       "                &quot;https://tile.openstreetmap.org/{z}/{x}/{y}.png&quot;,\n",
       "                {\n",
       "  &quot;minZoom&quot;: 0,\n",
       "  &quot;maxZoom&quot;: 19,\n",
       "  &quot;maxNativeZoom&quot;: 19,\n",
       "  &quot;noWrap&quot;: false,\n",
       "  &quot;attribution&quot;: &quot;\\u0026copy; \\u003ca href=\\&quot;https://www.openstreetmap.org/copyright\\&quot;\\u003eOpenStreetMap\\u003c/a\\u003e contributors&quot;,\n",
       "  &quot;subdomains&quot;: &quot;abc&quot;,\n",
       "  &quot;detectRetina&quot;: false,\n",
       "  &quot;tms&quot;: false,\n",
       "  &quot;opacity&quot;: 1,\n",
       "}\n",
       "\n",
       "            );\n",
       "        \n",
       "    \n",
       "            tile_layer_757569a39fb1b421c0c90cb9ae9d2934.addTo(map_db022565fa21e37e6c63baa5b091c7b1);\n",
       "        \n",
       "    \n",
       "            var heat_map_2f5e3ef092d06303ebec84f565e92358 = L.heatLayer(\n",
       "                [[48.95130045804373, 5.274452692260783, -1.3130081355702754], [48.20674459444895, 4.11771747966838, 2.977318963656306], [48.69386967441099, 4.932436148630086, 1.2261474081671073], [47.0532794204617, 5.1278626374718055, 0.5659848678263815], [48.43605934906868, 2.907370022521289, 0.7327053140014466], [46.4909852364388, 5.031474462664128, 0.5540260794230116], [48.678216082957476, 4.825977689042982, -0.5590440012093925], [46.876700610625825, 6.5329498203557925, 3.486152716956499], [47.9974694070844, 5.425103401116172, 1.4983894396716297], [48.40549651284322, 4.776277344199083, 2.0768153915999195], [49.289552847243534, 3.1826595675938685, 2.077952482767035], [47.958123146255396, 5.36865597138463, 1.2311941387894416], [47.80743816423584, 4.927223067929685, 0.9894666204186509], [48.22626847940702, 4.263069757064148, 0.8062874256405386], [46.91085863688759, 2.8086796910468292, -0.07053446130643426], [49.09690807544322, 3.112205293234246, 1.3519164728138395], [48.10064177118051, 5.557866773323221, 1.8212664662580935], [48.51478240702521, 3.9490314311071506, 1.7473500365477976], [49.22149261834536, 5.77378506807253, 1.2518987267731838], [46.229455253444456, 4.606215260756895, -0.1392036141811681], [49.240070666853306, 3.520437775994436, 1.617232221395966], [48.284008467818744, 4.824957002046193, -0.8668135939357113], [49.480800425820654, 4.183777467168586, 1.331234963551222], [47.391514417720664, 3.474659553501213, 0.7370371403467602], [46.979436209098154, 5.122317533034144, 1.3514758812103487], [46.22924699405302, 5.518817960987856, 1.1133280895515911], [49.166932046287116, 3.5927734718345246, 3.3584028185619195], [48.42901978935165, 5.174423682343376, 0.7216979473208388], [47.85365835343671, 3.0136650534150458, 1.7878199737920302], [49.34755949140228, 5.599282341298521, 0.5807830313291382], [44.9849817533876, 3.0437524767095225, -0.1774356705581701], [48.07713136071976, 5.342690192020546, 2.2651551372981253], [49.21852980579565, 4.971009801690319, 0.46024560309862306], [48.520805829070305, 5.909970778534018, -0.21264816030745237], [48.1476036124549, 4.228392707592827, 1.366758165357353], [47.9869078632568, 5.944092109314388, 3.054977192104676], [46.953731702631245, 4.205778272592491, 1.806764345192645], [47.52155930341857, 5.061110510772335, 1.3374288550265065], [48.046380943522365, 5.551417666271165, 0.9575739293853027], [48.19422204198968, 4.704872313448068, 1.6357985327337248], [46.26068503547436, 6.472015580815409, 1.1815859223739478], [47.65013309932974, 5.341913317668714, 0.12405766531889761], [48.8416146501214, 4.851800961281792, 1.2078210684291795], [48.44608482270224, 4.87804222206381, 1.6695160936771418], [49.55743119718761, 5.509109223233251, 1.5011386322675264], [45.63765728823021, 5.439550879864288, 2.112692331071479], [47.88907493913386, 4.013805085983816, 0.587941134871805], [48.51051356683238, 7.271803254578474, 1.982210241716388], [49.67902216333953, 3.652985328805056, 1.5673570767714535], [48.46912346671433, 5.4489791120545465, 0.6542997632111239], [48.04430598795224, 3.8798475270807318, -0.9551444541274625], [47.38203227998778, 4.393167670608557, 0.3049566368078759], [47.128978191741226, 4.676548022405899, 0.17103651776771533], [49.406447411521135, 6.373191878441116, 0.8062479990659881], [46.50018826745702, 6.018494764607873, -1.0443892863972692], [47.620738799787624, 3.7720583564727894, 0.7730086754091917], [47.04881260095651, 4.8479871822322504, 2.413268205292077], [48.98437065078336, 6.147909331968398, 1.1444525234753122], [47.129772278117656, 5.464978747180159, 0.48937807522965215], [48.24081909040539, 5.007428248679173, 1.4485380486667396], [48.52807073760372, 4.788527315664869, 0.8990380025806379], [47.21948655679494, 5.020627487380644, -1.098571116858134], [47.928929506958085, 5.315716954572891, 0.6686059217047611], [48.67914746185047, 6.570648423445495, 0.31833732224847977], [48.452944300919576, 5.294061780329351, 1.057726068421217], [48.536027771592465, 6.513350616990946, 2.4941813684154908], [47.78064830929651, 6.127847714761343, 0.06881112457424532], [46.59789970279304, 6.668271614477541, 1.7307147971949823], [47.32913824775766, 5.572374118182526, 1.461283822369714], [48.75064225364192, 5.311825503681413, 3.2422134915400678], [47.90772263561325, 4.409743762133306, 0.8208341762657334], [48.70176641507744, 5.700337350220307, 0.9906638114373288], [47.571144746090724, 4.955771846782456, 1.705883183806714], [47.028959121810836, 5.8487892259143015, 1.5559106683615127], [47.57061535393397, 5.016079225374914, 0.6304890139863701], [46.37884430690567, 3.604500501394978, 1.5140562791062875], [47.72479524601226, 5.7607899652024965, 1.732485099731809], [46.55832579591708, 5.900384670118149, 1.386022156793415], [47.51863643738618, 4.020638645304645, 1.828334609785755], [46.54556963146981, 4.623338007877851, 0.6645052692212954], [48.39005373964891, 4.121839298912853, 3.5916493175065614], [47.86883781188824, 5.54572984344253, 2.7277730853842694], [48.40832187904907, 4.506279018208922, 0.3319633258076323], [49.70733643273163, 6.56769564986881, 1.5974771710707145], [48.7827068252872, 4.911743909156556, 0.6680218641614797], [49.163597687758354, 5.887301476652925, -0.3966247010955686], [47.35386424012021, 2.0816894848642957, 0.8302469863876052], [46.17701420029107, 5.010509149266512, 1.1383572742845034], [46.487868556800834, 6.6797187321593565, 0.9506201267768614], [47.89646548611869, 3.9451326930012875, 1.478192095752756], [49.28584961342441, 4.634004124027533, 0.289638749556442], [50.42293920911155, 3.5940740233991324, 1.4349198755780397], [49.49818363523077, 4.1064597973084265, -0.07661588302846578], [47.07473273870828, 5.337576582065219, 0.6321660056619035], [48.36289320575794, 5.299068517684081, 2.3000496092513307], [47.66904159059131, 6.233052094729726, 1.618168992470177], [48.38993057605682, 4.035682150292638, 1.9556510959370064], [49.63454631959344, 4.116261390935278, 0.9064223979269859], [48.41575252185936, 3.791235496660712, 1.9501453264349682], [49.34857375886238, 5.815255327345674, -0.17322941314498697]],\n",
       "                {\n",
       "  &quot;minOpacity&quot;: 0.5,\n",
       "  &quot;maxZoom&quot;: 18,\n",
       "  &quot;radius&quot;: 25,\n",
       "  &quot;blur&quot;: 15,\n",
       "  &quot;gradient&quot;: null,\n",
       "}\n",
       "            );\n",
       "        \n",
       "    \n",
       "            heat_map_2f5e3ef092d06303ebec84f565e92358.addTo(map_db022565fa21e37e6c63baa5b091c7b1);\n",
       "        \n",
       "&lt;/script&gt;\n",
       "&lt;/html&gt;\" style=\"position:absolute;width:100%;height:100%;left:0;top:0;border:none !important;\" allowfullscreen webkitallowfullscreen mozallowfullscreen></iframe></div></div>"
      ],
      "text/plain": [
       "<folium.folium.Map at 0x7ff37cb154f0>"
      ]
     },
     "execution_count": 2,
     "metadata": {},
     "output_type": "execute_result"
    }
   ],
   "source": [
    "import folium\n",
    "from folium.plugins import HeatMap\n",
    "\n",
    "m = folium.Map([48.0, 5.0], zoom_start=6)\n",
    "\n",
    "HeatMap(data).add_to(m)\n",
    "\n",
    "m"
   ]
  }
 ],
 "metadata": {
  "jupytext": {
   "text_representation": {
    "extension": ".mystnb",
    "format_name": "myst"
   }
  },
  "language_info": {
   "codemirror_mode": {
    "name": "ipython",
    "version": 3
   },
   "file_extension": ".py",
   "mimetype": "text/x-python",
   "name": "python",
   "nbconvert_exporter": "python",
   "pygments_lexer": "ipython3",
   "version": "3.12.7"
  }
 },
 "nbformat": 4,
 "nbformat_minor": 5
}
