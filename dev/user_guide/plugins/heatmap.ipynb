{
 "cells": [
  {
   "cell_type": "markdown",
   "id": "39ead6c2",
   "metadata": {},
   "source": [
    "## Heatmap"
   ]
  },
  {
   "cell_type": "code",
   "execution_count": 1,
   "id": "b7359c17",
   "metadata": {
    "execution": {
     "iopub.execute_input": "2024-12-29T14:38:45.046161Z",
     "iopub.status.busy": "2024-12-29T14:38:45.045768Z",
     "iopub.status.idle": "2024-12-29T14:38:45.101038Z",
     "shell.execute_reply": "2024-12-29T14:38:45.100528Z"
    }
   },
   "outputs": [],
   "source": [
    "import numpy as np\n",
    "\n",
    "data = (\n",
    "    np.random.normal(size=(100, 3)) * np.array([[1, 1, 1]]) + np.array([[48, 5, 1]])\n",
    ").tolist()"
   ]
  },
  {
   "cell_type": "code",
   "execution_count": 2,
   "id": "4b2ebebc",
   "metadata": {
    "execution": {
     "iopub.execute_input": "2024-12-29T14:38:45.103977Z",
     "iopub.status.busy": "2024-12-29T14:38:45.103239Z",
     "iopub.status.idle": "2024-12-29T14:38:45.537845Z",
     "shell.execute_reply": "2024-12-29T14:38:45.537332Z"
    }
   },
   "outputs": [
    {
     "data": {
      "text/html": [
       "<div style=\"width:100%;\"><div style=\"position:relative;width:100%;height:0;padding-bottom:60%;\"><span style=\"color:#565656\">Make this Notebook Trusted to load map: File -> Trust Notebook</span><iframe srcdoc=\"&lt;!DOCTYPE html&gt;\n",
       "&lt;html&gt;\n",
       "&lt;head&gt;\n",
       "    \n",
       "    &lt;meta http-equiv=&quot;content-type&quot; content=&quot;text/html; charset=UTF-8&quot; /&gt;\n",
       "    \n",
       "        &lt;script&gt;\n",
       "            L_NO_TOUCH = false;\n",
       "            L_DISABLE_3D = false;\n",
       "        &lt;/script&gt;\n",
       "    \n",
       "    &lt;style&gt;html, body {width: 100%;height: 100%;margin: 0;padding: 0;}&lt;/style&gt;\n",
       "    &lt;style&gt;#map {position:absolute;top:0;bottom:0;right:0;left:0;}&lt;/style&gt;\n",
       "    &lt;script src=&quot;https://cdn.jsdelivr.net/npm/leaflet@1.9.3/dist/leaflet.js&quot;&gt;&lt;/script&gt;\n",
       "    &lt;script src=&quot;https://code.jquery.com/jquery-3.7.1.min.js&quot;&gt;&lt;/script&gt;\n",
       "    &lt;script src=&quot;https://cdn.jsdelivr.net/npm/bootstrap@5.2.2/dist/js/bootstrap.bundle.min.js&quot;&gt;&lt;/script&gt;\n",
       "    &lt;script src=&quot;https://cdnjs.cloudflare.com/ajax/libs/Leaflet.awesome-markers/2.0.2/leaflet.awesome-markers.js&quot;&gt;&lt;/script&gt;\n",
       "    &lt;link rel=&quot;stylesheet&quot; href=&quot;https://cdn.jsdelivr.net/npm/leaflet@1.9.3/dist/leaflet.css&quot;/&gt;\n",
       "    &lt;link rel=&quot;stylesheet&quot; href=&quot;https://cdn.jsdelivr.net/npm/bootstrap@5.2.2/dist/css/bootstrap.min.css&quot;/&gt;\n",
       "    &lt;link rel=&quot;stylesheet&quot; href=&quot;https://netdna.bootstrapcdn.com/bootstrap/3.0.0/css/bootstrap-glyphicons.css&quot;/&gt;\n",
       "    &lt;link rel=&quot;stylesheet&quot; href=&quot;https://cdn.jsdelivr.net/npm/@fortawesome/fontawesome-free@6.2.0/css/all.min.css&quot;/&gt;\n",
       "    &lt;link rel=&quot;stylesheet&quot; href=&quot;https://cdnjs.cloudflare.com/ajax/libs/Leaflet.awesome-markers/2.0.2/leaflet.awesome-markers.css&quot;/&gt;\n",
       "    &lt;link rel=&quot;stylesheet&quot; href=&quot;https://cdn.jsdelivr.net/gh/python-visualization/folium/folium/templates/leaflet.awesome.rotate.min.css&quot;/&gt;\n",
       "    \n",
       "            &lt;meta name=&quot;viewport&quot; content=&quot;width=device-width,\n",
       "                initial-scale=1.0, maximum-scale=1.0, user-scalable=no&quot; /&gt;\n",
       "            &lt;style&gt;\n",
       "                #map_f72b86a5b239badb1aff9a9ce38e2d2d {\n",
       "                    position: relative;\n",
       "                    width: 100.0%;\n",
       "                    height: 100.0%;\n",
       "                    left: 0.0%;\n",
       "                    top: 0.0%;\n",
       "                }\n",
       "                .leaflet-container { font-size: 1rem; }\n",
       "            &lt;/style&gt;\n",
       "        \n",
       "    &lt;script src=&quot;https://cdn.jsdelivr.net/gh/python-visualization/folium@main/folium/templates/leaflet_heat.min.js&quot;&gt;&lt;/script&gt;\n",
       "&lt;/head&gt;\n",
       "&lt;body&gt;\n",
       "    \n",
       "    \n",
       "            &lt;div class=&quot;folium-map&quot; id=&quot;map_f72b86a5b239badb1aff9a9ce38e2d2d&quot; &gt;&lt;/div&gt;\n",
       "        \n",
       "&lt;/body&gt;\n",
       "&lt;script&gt;\n",
       "    \n",
       "    \n",
       "            var map_f72b86a5b239badb1aff9a9ce38e2d2d = L.map(\n",
       "                &quot;map_f72b86a5b239badb1aff9a9ce38e2d2d&quot;,\n",
       "                {\n",
       "                    center: [48.0, 5.0],\n",
       "                    crs: L.CRS.EPSG3857,\n",
       "                    ...{\n",
       "  &quot;zoom&quot;: 6,\n",
       "  &quot;zoomControl&quot;: true,\n",
       "  &quot;preferCanvas&quot;: false,\n",
       "}\n",
       "\n",
       "                }\n",
       "            );\n",
       "\n",
       "            \n",
       "\n",
       "        \n",
       "    \n",
       "            var tile_layer_3b6001d3d0d0fe0aa720b38e85259bf6 = L.tileLayer(\n",
       "                &quot;https://tile.openstreetmap.org/{z}/{x}/{y}.png&quot;,\n",
       "                {\n",
       "  &quot;minZoom&quot;: 0,\n",
       "  &quot;maxZoom&quot;: 19,\n",
       "  &quot;maxNativeZoom&quot;: 19,\n",
       "  &quot;noWrap&quot;: false,\n",
       "  &quot;attribution&quot;: &quot;\\u0026copy; \\u003ca href=\\&quot;https://www.openstreetmap.org/copyright\\&quot;\\u003eOpenStreetMap\\u003c/a\\u003e contributors&quot;,\n",
       "  &quot;subdomains&quot;: &quot;abc&quot;,\n",
       "  &quot;detectRetina&quot;: false,\n",
       "  &quot;tms&quot;: false,\n",
       "  &quot;opacity&quot;: 1,\n",
       "}\n",
       "\n",
       "            );\n",
       "        \n",
       "    \n",
       "            tile_layer_3b6001d3d0d0fe0aa720b38e85259bf6.addTo(map_f72b86a5b239badb1aff9a9ce38e2d2d);\n",
       "        \n",
       "    \n",
       "            var heat_map_04e7821a344406bdeaf93bf8a39f95bf = L.heatLayer(\n",
       "                [[47.75501505844301, 5.188462331223645, 1.2527311519712994], [47.02732914996564, 4.141842236571151, 0.5246751875139665], [47.87885745940929, 4.347136674389553, 1.6335154428147491], [48.581945727551954, 3.22652033487923, 1.3598170672319099], [46.55556681905599, 3.3829967362723385, 1.3210600349296402], [49.19840335097789, 5.948635299905, 1.7546388531433115], [46.86068006856605, 6.436591216301943, 2.348379007121741], [47.694819139504304, 3.8697967094090933, 0.28094867894053766], [48.51762432171225, 5.765747657559287, 1.338933436369691], [49.054474322485284, 4.99092218943869, 0.6440902279689364], [49.10965035971285, 5.365972076083163, 0.7563781838069489], [46.40494113978528, 6.609377956692025, 0.5893579677051735], [46.78621626716205, 5.641153908096386, -0.2729421346721508], [48.268843494490206, 6.969361949558696, 2.230342463293976], [47.6814119599357, 4.458336085014813, 2.5685382402771437], [50.36776640721914, 4.3706071956006545, 0.517632734448514], [47.559582736778154, 5.545547523927095, 3.3111658233914], [49.764502267880246, 3.748272869797998, 0.6644773021257926], [48.00154868851165, 5.66339551407558, 2.441223548145679], [47.97861456086172, 5.516147423796364, 0.5939685367171371], [49.114868285306, 4.501731818895231, 0.27867446621961944], [49.04870824258184, 6.4752016906165055, 0.025210780399161248], [49.02981770083322, 5.611136023396424, 1.0370636840466938], [46.46393417126468, 4.848226083573992, 0.8204241001605912], [48.13782221917884, 4.450131454886071, 2.2961035814180115], [48.037428275666706, 3.437628612161703, 0.9369977405859823], [46.157679409708116, 5.48239710545331, 2.4862923728090887], [48.754105246468704, 6.004759000465899, -0.9686795800255268], [49.20143527653027, 4.794335005350108, 0.48371382120006023], [47.832800993173564, 1.9205796449983819, -0.3840104374240927], [48.46371044097327, 5.164382719010339, 0.143241089621306], [48.08652911152749, 5.192312763894635, 0.08367558066783043], [47.05926516057816, 3.8528300624947818, -0.13017436944170213], [47.88346968181518, 4.997316590834433, 2.196880012705325], [47.40127399743748, 4.522570483466007, 0.8048384370976662], [46.59562027986214, 4.405083392791752, 1.5876231248928843], [48.957018613636755, 5.530021808206321, 1.2069259385691673], [47.54934965829591, 6.827453085843739, 1.5679618025374147], [48.06723103706309, 5.346344386434199, 1.5997974918831583], [48.13702701627034, 5.5849468599664664, 0.13549660347781622], [47.674833708871084, 4.7215951356266945, 0.6305204375700231], [49.214036418650736, 5.060344542258109, 1.7764882106994482], [48.55319371135204, 6.0617267857980925, 0.9754540538955777], [48.99420223033007, 5.924302270217923, 2.0903086310683783], [47.566675425327176, 4.031607874743414, 0.16256776977078646], [46.97536176560793, 3.4303523455327074, -0.2709547426454204], [49.66400489396107, 4.854846881798241, 1.3232725516233104], [48.66070248677487, 4.978809526338602, -0.9033062660633968], [47.94020907988239, 5.9076855918387166, 2.41958028431626], [47.87136350845556, 5.270879009296505, 0.056352859318581916], [47.44441030641987, 5.046317425735141, 1.0140309246904122], [48.03907696032147, 4.918112404458503, 0.7605879898872767], [49.03743056800865, 5.056869725371899, -0.3132013882532847], [48.42441957015851, 2.167188976987703, 2.2852681257452447], [48.49402962250451, 3.140262904788391, -0.8096286062986067], [46.68170388467861, 4.892901261901241, -1.0909821600374503], [47.18194489963314, 4.424090707597868, 1.4351205895416435], [46.87384366439328, 7.596506369018259, 1.093098032056913], [49.373748545392225, 3.8737847910609933, -0.010549597867306915], [49.259691809611425, 4.774543935801343, 1.368977526048877], [49.99810066818611, 4.841984154488495, 1.2639849356051247], [48.87045942368444, 5.894269297925687, 1.033712199680338], [48.454103225661235, 5.6334131753927075, 0.9184493611213751], [48.44493110711364, 3.039353363464278, -0.3723085158322914], [48.55426045262118, 5.292370330092337, 0.9123378454942662], [47.80593097849279, 4.580495032320796, -0.021917376724434723], [49.12380922608905, 5.855342587345457, 1.8104139815898217], [47.32618784611891, 4.50627854589402, 1.1428069335019146], [50.27768585915139, 4.594103828883007, 1.4121011147822446], [49.03975264482722, 4.973174535237441, 1.3009112274340144], [46.85867123321569, 4.871322678445256, 2.4338052157205707], [48.06926925651736, 4.540943317318437, 0.4086484437970136], [47.11496083629454, 5.257024988288908, 1.9686433949519597], [46.007891583065344, 3.2844414019318937, 4.37714288096705], [48.575235770797505, 5.355999018577045, 0.3934427228843398], [45.986272675737005, 4.8533916838978595, 0.3477943500174776], [47.301086750092146, 5.6825180203358, 0.15879612918815966], [48.38597519900399, 3.55887110226881, 1.850150671060582], [47.67995835629234, 5.641261573966727, -0.48692595626726787], [47.804336615577505, 3.2800863881303597, -0.5021851682046237], [47.505820695330634, 6.099465575315703, 0.45903245319166885], [47.798486439515905, 5.8867699527762944, 0.606827765557977], [47.399235906394935, 3.964222230350641, 1.2909867136943254], [48.36753738136156, 4.031135327040602, 2.0538280508792672], [47.64253342872741, 4.709553993187301, 0.18322816141378173], [45.585901927084805, 4.384416554624589, 1.8453773006662544], [47.56707793873801, 6.300491047038029, 1.6190075148665306], [46.53961151953297, 5.393727381069112, 1.6980867758441858], [46.79759681942037, 3.89304962178183, 0.09656249883939794], [46.98232004055048, 4.0358930935517545, 1.436844230274663], [49.734379996589475, 4.774977484893365, 0.7857448718879312], [48.32744950021154, 5.672866306271094, 1.4555324601188762], [47.726537871334294, 4.811248012662202, 0.11964359345945808], [48.35279111239202, 3.7463294657212947, 2.388494651576129], [49.566331909694156, 6.611218908464005, 1.8331436452210803], [48.2541068266504, 4.221508339470035, 1.34290537971985], [48.129332867230715, 5.422692212450313, 0.1680821984410117], [46.511250959676424, 4.11833485667888, 1.005411023613289], [48.11376081201601, 6.794577769027553, 1.5614272525092745], [48.90611772902239, 2.584478523909408, 2.1353865268150685]],\n",
       "                {\n",
       "  &quot;minOpacity&quot;: 0.5,\n",
       "  &quot;maxZoom&quot;: 18,\n",
       "  &quot;radius&quot;: 25,\n",
       "  &quot;blur&quot;: 15,\n",
       "}\n",
       "            );\n",
       "        \n",
       "    \n",
       "            heat_map_04e7821a344406bdeaf93bf8a39f95bf.addTo(map_f72b86a5b239badb1aff9a9ce38e2d2d);\n",
       "        \n",
       "&lt;/script&gt;\n",
       "&lt;/html&gt;\" style=\"position:absolute;width:100%;height:100%;left:0;top:0;border:none !important;\" allowfullscreen webkitallowfullscreen mozallowfullscreen></iframe></div></div>"
      ],
      "text/plain": [
       "<folium.folium.Map at 0x7f112a6f15e0>"
      ]
     },
     "execution_count": 2,
     "metadata": {},
     "output_type": "execute_result"
    }
   ],
   "source": [
    "import folium\n",
    "from folium.plugins import HeatMap\n",
    "\n",
    "m = folium.Map([48.0, 5.0], zoom_start=6)\n",
    "\n",
    "HeatMap(data).add_to(m)\n",
    "\n",
    "m"
   ]
  }
 ],
 "metadata": {
  "jupytext": {
   "text_representation": {
    "extension": ".mystnb",
    "format_name": "myst"
   }
  },
  "language_info": {
   "codemirror_mode": {
    "name": "ipython",
    "version": 3
   },
   "file_extension": ".py",
   "mimetype": "text/x-python",
   "name": "python",
   "nbconvert_exporter": "python",
   "pygments_lexer": "ipython3",
   "version": "3.12.8"
  }
 },
 "nbformat": 4,
 "nbformat_minor": 5
}
