{
 "cells": [
  {
   "cell_type": "markdown",
   "id": "a3111720",
   "metadata": {},
   "source": [
    "## Heatmap"
   ]
  },
  {
   "cell_type": "code",
   "execution_count": 1,
   "id": "a44a3adf",
   "metadata": {
    "execution": {
     "iopub.execute_input": "2024-12-10T08:47:49.694361Z",
     "iopub.status.busy": "2024-12-10T08:47:49.693917Z",
     "iopub.status.idle": "2024-12-10T08:47:49.747243Z",
     "shell.execute_reply": "2024-12-10T08:47:49.746759Z"
    }
   },
   "outputs": [],
   "source": [
    "import numpy as np\n",
    "\n",
    "data = (\n",
    "    np.random.normal(size=(100, 3)) * np.array([[1, 1, 1]]) + np.array([[48, 5, 1]])\n",
    ").tolist()"
   ]
  },
  {
   "cell_type": "code",
   "execution_count": 2,
   "id": "d036c13b",
   "metadata": {
    "execution": {
     "iopub.execute_input": "2024-12-10T08:47:49.750133Z",
     "iopub.status.busy": "2024-12-10T08:47:49.749395Z",
     "iopub.status.idle": "2024-12-10T08:47:50.194066Z",
     "shell.execute_reply": "2024-12-10T08:47:50.193571Z"
    }
   },
   "outputs": [
    {
     "data": {
      "text/html": [
       "<div style=\"width:100%;\"><div style=\"position:relative;width:100%;height:0;padding-bottom:60%;\"><span style=\"color:#565656\">Make this Notebook Trusted to load map: File -> Trust Notebook</span><iframe srcdoc=\"&lt;!DOCTYPE html&gt;\n",
       "&lt;html&gt;\n",
       "&lt;head&gt;\n",
       "    \n",
       "    &lt;meta http-equiv=&quot;content-type&quot; content=&quot;text/html; charset=UTF-8&quot; /&gt;\n",
       "    \n",
       "        &lt;script&gt;\n",
       "            L_NO_TOUCH = false;\n",
       "            L_DISABLE_3D = false;\n",
       "        &lt;/script&gt;\n",
       "    \n",
       "    &lt;style&gt;html, body {width: 100%;height: 100%;margin: 0;padding: 0;}&lt;/style&gt;\n",
       "    &lt;style&gt;#map {position:absolute;top:0;bottom:0;right:0;left:0;}&lt;/style&gt;\n",
       "    &lt;script src=&quot;https://cdn.jsdelivr.net/npm/leaflet@1.9.3/dist/leaflet.js&quot;&gt;&lt;/script&gt;\n",
       "    &lt;script src=&quot;https://code.jquery.com/jquery-3.7.1.min.js&quot;&gt;&lt;/script&gt;\n",
       "    &lt;script src=&quot;https://cdn.jsdelivr.net/npm/bootstrap@5.2.2/dist/js/bootstrap.bundle.min.js&quot;&gt;&lt;/script&gt;\n",
       "    &lt;script src=&quot;https://cdnjs.cloudflare.com/ajax/libs/Leaflet.awesome-markers/2.0.2/leaflet.awesome-markers.js&quot;&gt;&lt;/script&gt;\n",
       "    &lt;link rel=&quot;stylesheet&quot; href=&quot;https://cdn.jsdelivr.net/npm/leaflet@1.9.3/dist/leaflet.css&quot;/&gt;\n",
       "    &lt;link rel=&quot;stylesheet&quot; href=&quot;https://cdn.jsdelivr.net/npm/bootstrap@5.2.2/dist/css/bootstrap.min.css&quot;/&gt;\n",
       "    &lt;link rel=&quot;stylesheet&quot; href=&quot;https://netdna.bootstrapcdn.com/bootstrap/3.0.0/css/bootstrap-glyphicons.css&quot;/&gt;\n",
       "    &lt;link rel=&quot;stylesheet&quot; href=&quot;https://cdn.jsdelivr.net/npm/@fortawesome/fontawesome-free@6.2.0/css/all.min.css&quot;/&gt;\n",
       "    &lt;link rel=&quot;stylesheet&quot; href=&quot;https://cdnjs.cloudflare.com/ajax/libs/Leaflet.awesome-markers/2.0.2/leaflet.awesome-markers.css&quot;/&gt;\n",
       "    &lt;link rel=&quot;stylesheet&quot; href=&quot;https://cdn.jsdelivr.net/gh/python-visualization/folium/folium/templates/leaflet.awesome.rotate.min.css&quot;/&gt;\n",
       "    \n",
       "            &lt;meta name=&quot;viewport&quot; content=&quot;width=device-width,\n",
       "                initial-scale=1.0, maximum-scale=1.0, user-scalable=no&quot; /&gt;\n",
       "            &lt;style&gt;\n",
       "                #map_6222777bd60aa53dddcb45d5b008c82d {\n",
       "                    position: relative;\n",
       "                    width: 100.0%;\n",
       "                    height: 100.0%;\n",
       "                    left: 0.0%;\n",
       "                    top: 0.0%;\n",
       "                }\n",
       "                .leaflet-container { font-size: 1rem; }\n",
       "            &lt;/style&gt;\n",
       "        \n",
       "    &lt;script src=&quot;https://cdn.jsdelivr.net/gh/python-visualization/folium@main/folium/templates/leaflet_heat.min.js&quot;&gt;&lt;/script&gt;\n",
       "&lt;/head&gt;\n",
       "&lt;body&gt;\n",
       "    \n",
       "    \n",
       "            &lt;div class=&quot;folium-map&quot; id=&quot;map_6222777bd60aa53dddcb45d5b008c82d&quot; &gt;&lt;/div&gt;\n",
       "        \n",
       "&lt;/body&gt;\n",
       "&lt;script&gt;\n",
       "    \n",
       "    \n",
       "            var map_6222777bd60aa53dddcb45d5b008c82d = L.map(\n",
       "                &quot;map_6222777bd60aa53dddcb45d5b008c82d&quot;,\n",
       "                {\n",
       "                    center: [48.0, 5.0],\n",
       "                    crs: L.CRS.EPSG3857,\n",
       "                    ...{\n",
       "  &quot;maxBounds&quot;: null,\n",
       "  &quot;zoom&quot;: 6,\n",
       "  &quot;zoomControl&quot;: true,\n",
       "  &quot;preferCanvas&quot;: false,\n",
       "}\n",
       "\n",
       "                }\n",
       "            );\n",
       "\n",
       "            \n",
       "\n",
       "        \n",
       "    \n",
       "            var tile_layer_cdf52e8692d4ef4a843fdc2611cd4695 = L.tileLayer(\n",
       "                &quot;https://tile.openstreetmap.org/{z}/{x}/{y}.png&quot;,\n",
       "                {\n",
       "  &quot;minZoom&quot;: 0,\n",
       "  &quot;maxZoom&quot;: 19,\n",
       "  &quot;maxNativeZoom&quot;: 19,\n",
       "  &quot;noWrap&quot;: false,\n",
       "  &quot;attribution&quot;: &quot;\\u0026copy; \\u003ca href=\\&quot;https://www.openstreetmap.org/copyright\\&quot;\\u003eOpenStreetMap\\u003c/a\\u003e contributors&quot;,\n",
       "  &quot;subdomains&quot;: &quot;abc&quot;,\n",
       "  &quot;detectRetina&quot;: false,\n",
       "  &quot;tms&quot;: false,\n",
       "  &quot;opacity&quot;: 1,\n",
       "}\n",
       "\n",
       "            );\n",
       "        \n",
       "    \n",
       "            tile_layer_cdf52e8692d4ef4a843fdc2611cd4695.addTo(map_6222777bd60aa53dddcb45d5b008c82d);\n",
       "        \n",
       "    \n",
       "            var heat_map_58cc559b64993de9f6d3802aec0797ed = L.heatLayer(\n",
       "                [[48.226726255488515, 5.067023399787894, 0.8617317879335102], [48.549913293363794, 6.072217191175993, 0.7601913211852501], [48.833322481225224, 4.123939081866549, 1.9946385364338415], [47.94873508306383, 5.989141828251963, 0.7046784539147852], [48.69763012573374, 5.1325601505392315, 3.4346451193176137], [47.29273796726292, 4.367765866348764, 2.5737936672634802], [47.34326666470514, 6.052788061173485, -0.3062357098093784], [47.94777241491897, 4.412029848819723, 0.4712158126565198], [47.958451316339826, 3.260841324866435, 0.06494417426574506], [47.25873167138869, 5.53294701442828, 1.929170036349769], [47.884769634354136, 4.988170404988056, 0.5412830800984751], [48.30551132073027, 3.80321892002389, 2.7898251092999438], [48.0503893005281, 6.215689998167399, 2.4612590053927113], [47.86643854042665, 4.676278347716688, 0.20418599675725657], [47.588135159198465, 4.82972442953777, 0.5828716085979356], [46.472808599787164, 4.620101046569035, 1.926866708134054], [49.230772041242496, 6.1930317059123885, 2.3300448860288125], [47.09743136143696, 6.321710423049356, 0.2670196293501921], [49.666249588464325, 4.946663774582463, 2.913862243719633], [48.670935530257715, 4.319782791730104, -0.048674481318297325], [47.63138635303599, 6.162973746864125, 0.8880084895735361], [45.770630199297436, 5.8634127535133524, 0.7578017031000187], [49.03178840671541, 3.966767296148051, 1.0866928110119838], [48.335342532322905, 5.455106088737298, -0.07947394826711096], [48.29049779748712, 5.438411940667462, 0.47789261160434726], [48.729240416507224, 4.853100974358119, 0.918687715650353], [47.249290309261724, 5.218740270170955, 1.410863348076675], [47.6835804351169, 4.62836542101633, 1.356076010808224], [49.870556028121925, 7.075184410673861, -0.5834326718088827], [48.05247377339718, 5.958666894645862, -2.099105038960132], [48.5207272492761, 3.1568786992426885, 1.2755433317216995], [49.17997323187456, 8.03343849772893, 0.6014393358062302], [47.798661366668306, 3.4275705982405693, 2.489263630359975], [48.577700846446746, 4.685730719082357, 1.30176550254741], [46.88864135042814, 4.529234042300649, 1.1920978833524554], [48.55538281543305, 3.698286086626224, 0.9545965879157723], [50.20795058439585, 6.13110053233163, 0.775785997588084], [48.79469242876271, 5.7017223372513515, 1.1066715256384065], [46.76451010142137, 3.1772092137533567, 0.09570576463871827], [48.168722101780645, 6.132799854418517, 0.6299872051775399], [47.30062270745841, 5.12249967000696, 1.1163427738282563], [48.13388200384107, 6.750042162203288, 0.877109369060215], [50.955165336520125, 5.750163318483409, -0.10806015591572926], [46.66286451557581, 6.183074393660563, 2.6996763146028986], [47.4543310354104, 5.199097792423255, 1.8714567051311637], [47.6393975924954, 4.202408822059446, -0.7068616044593099], [46.95757060633066, 5.11639629990468, 1.256756315820314], [48.63756888339897, 6.966071556242394, 2.6777040770900014], [48.90337361821647, 4.906135167937645, 0.21198170744238354], [48.36308156315592, 5.569870122328827, 1.2644286496098496], [48.18051266225034, 5.7365458671784015, 1.631136988503685], [47.76201870598532, 3.8506783691211552, -0.20840576622980866], [47.657591245685, 4.160675141273478, 0.763091232914083], [48.27663431405259, 5.830538220325646, 0.11171123209058698], [47.85618671847791, 3.4814340246053384, 2.477646142662123], [47.70945367115916, 6.0945148296770375, 0.9080507556856029], [47.152205440204156, 4.7599237593281245, -0.1421299544485941], [46.339580231951906, 6.269376343291665, 2.1787674235747527], [48.08518054016034, 4.68653605871945, -0.019299604158160566], [50.6630769554137, 5.609892233764963, 1.3291593245257007], [47.07321258280857, 5.2823612882755056, 1.277323248772068], [48.000210632190296, 5.090888168391309, 0.7868066789369881], [47.99170225613366, 6.118590329806681, 1.6728728537773105], [47.93388826097189, 5.198923169240045, 0.6227638951197993], [48.11787248586361, 3.4334900280734635, 0.04523747186727989], [48.600252124458066, 4.456925174584992, 2.0656412653498455], [46.93044724079191, 5.52472986694185, 1.0186004932458423], [44.86355230852261, 3.882486488575525, 0.48607176167689303], [48.51298356822397, 3.076819457127277, 1.7609536904305494], [48.68299456306006, 5.376674409083785, 0.4327367497914313], [47.346535649412374, 3.102052217331199, 1.8274086500873226], [48.05469442828236, 4.414045568218002, 1.2253234364326342], [47.42747233349933, 4.358398039127044, -0.8272453564218092], [48.60180786312666, 4.803280402542683, -0.7911314311525883], [45.54090729368674, 6.368383303524709, 1.0678521823964024], [47.535150981257544, 4.405061238409317, 0.6852016347246599], [48.717254569850724, 4.857780605034076, 0.6936763082895847], [47.276619918581815, 5.151347691938149, 1.1040742290858598], [47.49600638111076, 5.197135642843644, 0.7043966563984914], [49.230451777528835, 4.191058214291106, 0.7652191032757036], [48.75322314933113, 6.962859413979886, 2.274703948871158], [48.004884416852256, 6.7711181821443125, 0.733083081478213], [46.425662574281716, 4.071167570580375, 0.5811571103247093], [49.63233403706784, 5.154918210687659, 0.8990888607370913], [47.10524646154921, 3.598522707147282, 3.8999075205852893], [46.90434488187756, 4.564803955008025, -0.10955972803893554], [47.220922475412856, 5.843307970516829, -0.18976604756620308], [47.92970097682891, 6.666989310031255, 0.10925315587645568], [48.57955502787113, 6.3951023822186706, 0.15846924583977517], [47.22758620828273, 5.380508761685252, 1.0489603315990228], [48.289549114449805, 4.255731659153556, 1.1163991239292705], [47.67388093677151, 4.813653525234203, 1.6055865790562285], [47.17147547695822, 5.477483099402618, -0.2717088026136314], [47.18517225017724, 3.7291859243409267, 1.4284725285358775], [48.71355473725479, 3.7482183545115673, 0.1567597415858487], [48.25233365323872, 4.9097273418954215, 1.984157478804669], [46.08156750948834, 6.502810067328147, 0.02459696230983388], [47.60853470608854, 4.62366030390377, 1.6015038967382473], [47.001028027716735, 5.605953963736754, 1.8909881528351602], [46.619939204713035, 3.902106372109405, 0.25963282785400854]],\n",
       "                {\n",
       "  &quot;minOpacity&quot;: 0.5,\n",
       "  &quot;maxZoom&quot;: 18,\n",
       "  &quot;radius&quot;: 25,\n",
       "  &quot;blur&quot;: 15,\n",
       "  &quot;gradient&quot;: null,\n",
       "}\n",
       "            );\n",
       "        \n",
       "    \n",
       "            heat_map_58cc559b64993de9f6d3802aec0797ed.addTo(map_6222777bd60aa53dddcb45d5b008c82d);\n",
       "        \n",
       "&lt;/script&gt;\n",
       "&lt;/html&gt;\" style=\"position:absolute;width:100%;height:100%;left:0;top:0;border:none !important;\" allowfullscreen webkitallowfullscreen mozallowfullscreen></iframe></div></div>"
      ],
      "text/plain": [
       "<folium.folium.Map at 0x7f957d7655e0>"
      ]
     },
     "execution_count": 2,
     "metadata": {},
     "output_type": "execute_result"
    }
   ],
   "source": [
    "import folium\n",
    "from folium.plugins import HeatMap\n",
    "\n",
    "m = folium.Map([48.0, 5.0], zoom_start=6)\n",
    "\n",
    "HeatMap(data).add_to(m)\n",
    "\n",
    "m"
   ]
  }
 ],
 "metadata": {
  "jupytext": {
   "text_representation": {
    "extension": ".mystnb",
    "format_name": "myst"
   }
  },
  "language_info": {
   "codemirror_mode": {
    "name": "ipython",
    "version": 3
   },
   "file_extension": ".py",
   "mimetype": "text/x-python",
   "name": "python",
   "nbconvert_exporter": "python",
   "pygments_lexer": "ipython3",
   "version": "3.12.8"
  }
 },
 "nbformat": 4,
 "nbformat_minor": 5
}
